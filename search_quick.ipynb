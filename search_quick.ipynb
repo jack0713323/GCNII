{
 "cells": [
  {
   "cell_type": "code",
   "execution_count": 1,
   "id": "e1a865a5",
   "metadata": {
    "execution": {
     "iopub.execute_input": "2024-07-15T10:33:23.564536Z",
     "iopub.status.busy": "2024-07-15T10:33:23.563776Z",
     "iopub.status.idle": "2024-07-15T10:33:23.575403Z",
     "shell.execute_reply": "2024-07-15T10:33:23.574715Z"
    },
    "papermill": {
     "duration": 0.019899,
     "end_time": "2024-07-15T10:33:23.577370",
     "exception": false,
     "start_time": "2024-07-15T10:33:23.557471",
     "status": "completed"
    },
    "tags": []
   },
   "outputs": [],
   "source": [
    "import random"
   ]
  },
  {
   "cell_type": "code",
   "execution_count": 2,
   "id": "952d14ab",
   "metadata": {
    "execution": {
     "iopub.execute_input": "2024-07-15T10:33:23.587828Z",
     "iopub.status.busy": "2024-07-15T10:33:23.587127Z",
     "iopub.status.idle": "2024-07-15T10:33:25.543425Z",
     "shell.execute_reply": "2024-07-15T10:33:25.542321Z"
    },
    "papermill": {
     "duration": 1.96361,
     "end_time": "2024-07-15T10:33:25.545683",
     "exception": false,
     "start_time": "2024-07-15T10:33:23.582073",
     "status": "completed"
    },
    "tags": []
   },
   "outputs": [
    {
     "name": "stdout",
     "output_type": "stream",
     "text": [
      "Cloning into 'GCNII'...\r\n",
      "remote: Enumerating objects: 305, done.\u001b[K\r\n",
      "remote: Counting objects: 100% (172/172), done.\u001b[K\r\n",
      "remote: Compressing objects: 100% (121/121), done.\u001b[K\r\n",
      "remote: Total 305 (delta 101), reused 81 (delta 50), pack-reused 133\u001b[K\r\n",
      "Receiving objects: 100% (305/305), 5.61 MiB | 26.33 MiB/s, done.\r\n",
      "Resolving deltas: 100% (125/125), done.\r\n",
      "/kaggle/working/GCNII\n"
     ]
    }
   ],
   "source": [
    "!git clone https://github.com/jack0713323/GCNII.git\n",
    "%cd GCNII"
   ]
  },
  {
   "cell_type": "code",
   "execution_count": 3,
   "id": "b44c72ab",
   "metadata": {
    "execution": {
     "iopub.execute_input": "2024-07-15T10:33:25.557644Z",
     "iopub.status.busy": "2024-07-15T10:33:25.557350Z",
     "iopub.status.idle": "2024-07-15T10:33:26.535888Z",
     "shell.execute_reply": "2024-07-15T10:33:26.534948Z"
    },
    "papermill": {
     "duration": 0.987162,
     "end_time": "2024-07-15T10:33:26.538220",
     "exception": false,
     "start_time": "2024-07-15T10:33:25.551058",
     "status": "completed"
    },
    "tags": []
   },
   "outputs": [
    {
     "name": "stdout",
     "output_type": "stream",
     "text": [
      "111034507linzijie.txt  full-supervisedtest.py\t ppi.sh        train1.py\r\n",
      "ALLGCNII.ipynb\t       full-supervisedtest10.py  pretrained    train2.py\r\n",
      "ALLMSSOGCNII.ipynb     full.sh\t\t\t process.py    train3.py\r\n",
      "PyG\t\t       model.py\t\t\t search.ipynb  trainTEST.py\r\n",
      "README.md\t       modelnew.py\t\t semi.sh       trainshow.py\r\n",
      "data\t\t       new_data\t\t\t splits        utils.py\r\n",
      "full-supervised.py     ppi.py\t\t\t train.py\r\n"
     ]
    }
   ],
   "source": [
    "!ls  "
   ]
  },
  {
   "cell_type": "markdown",
   "id": "4e52366b",
   "metadata": {
    "papermill": {
     "duration": 0.005097,
     "end_time": "2024-07-15T10:33:26.548867",
     "exception": false,
     "start_time": "2024-07-15T10:33:26.543770",
     "status": "completed"
    },
    "tags": []
   },
   "source": [
    "選擇要使用的資料庫"
   ]
  },
  {
   "cell_type": "markdown",
   "id": "3b25476a",
   "metadata": {
    "papermill": {
     "duration": 0.004929,
     "end_time": "2024-07-15T10:33:26.558983",
     "exception": false,
     "start_time": "2024-07-15T10:33:26.554054",
     "status": "completed"
    },
    "tags": []
   },
   "source": [
    "設定參數、代數、等等"
   ]
  },
  {
   "cell_type": "code",
   "execution_count": 4,
   "id": "b3fe5132",
   "metadata": {
    "execution": {
     "iopub.execute_input": "2024-07-15T10:33:26.571372Z",
     "iopub.status.busy": "2024-07-15T10:33:26.570719Z",
     "iopub.status.idle": "2024-07-15T10:33:26.575316Z",
     "shell.execute_reply": "2024-07-15T10:33:26.574467Z"
    },
    "papermill": {
     "duration": 0.01312,
     "end_time": "2024-07-15T10:33:26.577277",
     "exception": false,
     "start_time": "2024-07-15T10:33:26.564157",
     "status": "completed"
    },
    "tags": []
   },
   "outputs": [],
   "source": [
    "Ngen=2\n",
    "Nsol=2"
   ]
  },
  {
   "cell_type": "code",
   "execution_count": 5,
   "id": "0c806f59",
   "metadata": {
    "execution": {
     "iopub.execute_input": "2024-07-15T10:33:26.588962Z",
     "iopub.status.busy": "2024-07-15T10:33:26.588711Z",
     "iopub.status.idle": "2024-07-15T10:33:26.593955Z",
     "shell.execute_reply": "2024-07-15T10:33:26.593171Z"
    },
    "papermill": {
     "duration": 0.013427,
     "end_time": "2024-07-15T10:33:26.595858",
     "exception": false,
     "start_time": "2024-07-15T10:33:26.582431",
     "status": "completed"
    },
    "tags": []
   },
   "outputs": [],
   "source": [
    "random_number_range=[(4,33),(0,2),(0,2),(0,3),(50,200),(500,1000),(2,257),(0,2)\n",
    "                    ,(0.01,1),(0.01,2),(0.01,0.9),(0.001,0.1),(0.00001,0.1),(0.00001,0.1)]\n"
   ]
  },
  {
   "cell_type": "markdown",
   "id": "9bc3d284",
   "metadata": {
    "papermill": {
     "duration": 0.004963,
     "end_time": "2024-07-15T10:33:26.605954",
     "exception": false,
     "start_time": "2024-07-15T10:33:26.600991",
     "status": "completed"
    },
    "tags": []
   },
   "source": [
    "best_num_layers = int(a[0])\n",
    "best_optim = int(a[1])\n",
    "best_al = int(a[2])\n",
    "best_act = int(a[3])\n",
    "best_earlystop = int(a[4])\n",
    "best_epoch1 = int(a[5])\n",
    "best_hidden_dim = int(a[6])\n",
    "best_variant = a[7]\n",
    "\n",
    "best_alpha = a[8]\n",
    "best_lamda = a[9]\n",
    "best_dropout = a[10]\n",
    "best_lr = a[11]\n",
    "best_weight_decay_1 = a[12]\n",
    "best_weight_decay_2 = a[13]\n"
   ]
  },
  {
   "cell_type": "code",
   "execution_count": 6,
   "id": "dd9b3f1f",
   "metadata": {
    "execution": {
     "iopub.execute_input": "2024-07-15T10:33:26.617454Z",
     "iopub.status.busy": "2024-07-15T10:33:26.617178Z",
     "iopub.status.idle": "2024-07-15T10:33:26.622772Z",
     "shell.execute_reply": "2024-07-15T10:33:26.621931Z"
    },
    "papermill": {
     "duration": 0.013476,
     "end_time": "2024-07-15T10:33:26.624712",
     "exception": false,
     "start_time": "2024-07-15T10:33:26.611236",
     "status": "completed"
    },
    "tags": []
   },
   "outputs": [],
   "source": [
    "def random_select(n):\n",
    "    return random.uniform(random_number_range[n][0],random_number_range[n][1])\n",
    "def generate_random_numbers(number_range):\n",
    "    random_numbers = []\n",
    "    for min_value, max_value in number_range:\n",
    "        random_value = random.uniform(min_value, max_value)\n",
    "        if random_value>2:\n",
    "          random_value=int(random_value)\n",
    "        random_numbers.append(random_value)\n",
    "\n",
    "    return random_numbers\n",
    "# 定义范围"
   ]
  },
  {
   "cell_type": "markdown",
   "id": "d8051f6a",
   "metadata": {
    "id": "D77jGzQdCRfs",
    "papermill": {
     "duration": 0.004962,
     "end_time": "2024-07-15T10:33:26.634953",
     "exception": false,
     "start_time": "2024-07-15T10:33:26.629991",
     "status": "completed"
    },
    "tags": []
   },
   "source": [
    "設可調之網路 optimer都要改"
   ]
  },
  {
   "cell_type": "code",
   "execution_count": 7,
   "id": "25bf5d38",
   "metadata": {
    "execution": {
     "iopub.execute_input": "2024-07-15T10:33:26.647171Z",
     "iopub.status.busy": "2024-07-15T10:33:26.646303Z",
     "iopub.status.idle": "2024-07-15T10:33:26.650805Z",
     "shell.execute_reply": "2024-07-15T10:33:26.650087Z"
    },
    "papermill": {
     "duration": 0.01266,
     "end_time": "2024-07-15T10:33:26.652756",
     "exception": false,
     "start_time": "2024-07-15T10:33:26.640096",
     "status": "completed"
    },
    "tags": []
   },
   "outputs": [],
   "source": [
    "C1=0.1#GBEST區間\n",
    "C2=0.5#PBEST區間\n",
    "Cg=0.35\n",
    "Cp=0.6\n",
    "Cw=0.7"
   ]
  },
  {
   "cell_type": "code",
   "execution_count": 8,
   "id": "08851324",
   "metadata": {
    "execution": {
     "iopub.execute_input": "2024-07-15T10:33:26.664275Z",
     "iopub.status.busy": "2024-07-15T10:33:26.663971Z",
     "iopub.status.idle": "2024-07-15T10:33:26.667950Z",
     "shell.execute_reply": "2024-07-15T10:33:26.667104Z"
    },
    "papermill": {
     "duration": 0.011926,
     "end_time": "2024-07-15T10:33:26.669843",
     "exception": false,
     "start_time": "2024-07-15T10:33:26.657917",
     "status": "completed"
    },
    "tags": []
   },
   "outputs": [],
   "source": [
    "Njob=8 # 表整數型參數個數\n",
    "Njob2=6 # 表小數型參數個數\n",
    "repeat=5"
   ]
  },
  {
   "cell_type": "code",
   "execution_count": 9,
   "id": "b5174e88",
   "metadata": {
    "execution": {
     "iopub.execute_input": "2024-07-15T10:33:26.681702Z",
     "iopub.status.busy": "2024-07-15T10:33:26.681439Z",
     "iopub.status.idle": "2024-07-15T10:40:46.886191Z",
     "shell.execute_reply": "2024-07-15T10:40:46.885295Z"
    },
    "papermill": {
     "duration": 440.21862,
     "end_time": "2024-07-15T10:40:46.893624",
     "exception": false,
     "start_time": "2024-07-15T10:33:26.675004",
     "status": "completed"
    },
    "tags": []
   },
   "outputs": [
    {
     "name": "stdout",
     "output_type": "stream",
     "text": [
      "0 0 [19, 0, 1, 1, 163, 885, 220, 1, 0.19789590915855249, 1.242279881117598, 0.4780155540915265, 0.08220371179026947, 0.02493234410329532, 0.0013916679761359553]\n",
      "0.79\n",
      "0 1 [15, 0, 1, 1, 146, 997, 255, 0, 0.5850609350389736, 0.6412475167128101, 0.46547429327484974, 0.05331304984193868, 0.028048724694110048, 0.050255492194488785]\n",
      "0.42\n",
      "1 0 [19, 0, 1, 1, 163, 984, 74, 0, 0.19092970384775618, 1.2187681022790076, 0.4806018435283858, 0.08231098615276887, 0.024931190253548275, 0.0013927658876299754]\n",
      "0.808 vs 0.79\n",
      "1 1 [30, 0, 1, 2, 114, 997, 255, 0, 0.584192088596485, 1.2402683142536062, 0.4836636638858124, 0.05330599207120837, 0.02804872336563621, 0.05025533292677441]\n",
      "0.41200000000000003 vs 0.808\n",
      "2 0 [19, 0, 1, 1, 163, 984, 74, 0, 0.1963463688379397, 1.2379343591448775, 0.47761742571077476, 0.08226211105390902, 0.024931683963174415, 0.0013924385127747636]\n",
      "0.7959999999999999 vs 0.808\n",
      "2 1 [10, 0, 1, 2, 163, 997, 240, 0, 0.20533912434191953, 1.2402211684638071, 0.48366495520902225, 0.053296427256961154, 0.028048728794420573, 0.05025548583189836]\n",
      "0.38799999999999996 vs 0.808\n",
      "optimal sequence (19, 0, 1, 1, 163, 984, 74, 0, 0.19092970384775618, 1.2187681022790076, 0.4806018435283858, 0.08231098615276887, 0.024931190253548275, 0.0013927658876299754)\n",
      "optimal value:0.808000\n",
      "gbest_time:0.000000\n",
      "optimal generation number: 1\n",
      "optimal sol number: 0\n",
      "sso_time: 439.9304311275482\n"
     ]
    }
   ],
   "source": [
    "#iSSO-ssoHPO（超參數優化）老師版本\n",
    "\n",
    "import numpy as np\n",
    "import time\n",
    "import copy\n",
    "import random\n",
    "import os\n",
    "\n",
    "random.seed()\n",
    "\n",
    "\n",
    "Best_time=0\n",
    "\n",
    "gbest_list=[]\n",
    "\n",
    "start_time = time.time()\n",
    "'''----- 生成初始种群 -----'''\n",
    "X, F, pX, pF, gBest, genBest= [], [], [], [], 0, 0\n",
    "value_to_x_dict = {}\n",
    "umax=np.array([0]*(Njob+Njob2+1), dtype=np.float64)\n",
    "umin=np.array([1]*(Njob+Njob2+1), dtype=np.float64)\n",
    "for job in range(Njob,Njob+Njob2):\n",
    "    umax[job]=random_number_range[job][1]\n",
    "    umin[job]=random_number_range[job][0]\n",
    "#初始解\n",
    "for sol in range(Nsol):\n",
    "    rX = generate_random_numbers(random_number_range)\n",
    "    rX[0] = int(rX[0])\n",
    "    rX[1] = int(rX[1])\n",
    "    rX[2] = int(rX[2])\n",
    "    rX[3] = int(rX[3])\n",
    "    rX[4] = int(rX[4])\n",
    "    rX[5] = int(rX[5])\n",
    "    rX[6] = int(rX[6])\n",
    "    rX[7] = int(rX[7])\n",
    "\n",
    "    X.append(rX) \n",
    "    pX.append(rX) \n",
    "    print(\"0\",sol,X[sol])\n",
    "    best_num_layers = (X[sol][0])\n",
    "    best_optim = (X[sol][1])\n",
    "    best_al = (X[sol][2])\n",
    "    best_act = (X[sol][3])\n",
    "    best_earlystop = (X[sol][4])\n",
    "    best_epoch1 = (X[sol][5])\n",
    "    best_hidden_dim = (X[sol][6])\n",
    "    best_variant = (X[sol][7])\n",
    "\n",
    "    best_alpha = X[sol][8]\n",
    "    best_lamda = X[sol][9]\n",
    "    best_dropout = X[sol][10]\n",
    "    best_lr = X[sol][11]\n",
    "    best_weight_decay_1 = X[sol][12]\n",
    "    best_weight_decay_2 = X[sol][13]\n",
    "\n",
    "    best_test_acc_list=[]\n",
    "    for k in range(repeat):\n",
    "        if best_al==0 and best_variant==0:\n",
    "            b=!python -u train3.py --data pubmed --layer {best_num_layers} --op {best_optim}  --act_fn {best_act} --patience {best_earlystop} --epochs  {best_epoch1} --hidden {best_hidden_dim} --dropout {best_dropout} --lr {best_lr} --wd1 {best_weight_decay_1} --wd2 {best_weight_decay_2} \n",
    "        elif best_al==1 and best_variant==0:\n",
    "            b=!python -u train3.py --data pubmed --layer {best_num_layers} --op {best_optim}  --act_fn {best_act} --patience {best_earlystop} --epochs  {best_epoch1} --hidden {best_hidden_dim} --alpha {best_alpha} --lamda {best_lamda} --dropout {best_dropout} --lr {best_lr} --wd1 {best_weight_decay_1} --wd2 {best_weight_decay_2} \n",
    "        elif best_al==0 and best_variant==1:\n",
    "            b=!python -u train3.py --data pubmed --layer {best_num_layers} --op {best_optim}  --act_fn {best_act} --patience {best_earlystop} --epochs  {best_epoch1} --hidden {best_hidden_dim} --dropout {best_dropout} --lr {best_lr} --wd1 {best_weight_decay_1} --wd2 {best_weight_decay_2}  --variant\n",
    "        else:\n",
    "            b=!python -u train3.py --data pubmed --layer {best_num_layers} --op {best_optim}  --act_fn {best_act} --patience {best_earlystop} --epochs  {best_epoch1} --hidden {best_hidden_dim} --alpha {best_alpha} --lamda {best_lamda} --dropout {best_dropout} --lr {best_lr} --wd1 {best_weight_decay_1} --wd2 {best_weight_decay_2}  --variant\n",
    "        b=float(b[-1][-4:].replace(\":\", \"\"))\n",
    "        best_test_acc_list.append(b*0.01)\n",
    "        if np.mean(best_test_acc_list)<0.75:\n",
    "            break\n",
    "    value=np.mean(best_test_acc_list)\n",
    "    print(value,)\n",
    "    F.append(value)\n",
    "    pF.append(value)\n",
    "    if F[sol]>F[gBest]:\n",
    "        gBest=sol\n",
    "        #pX[gBest]=rX\n",
    "        #gbest_list=best_test_acc_list\n",
    "    \n",
    "    value_to_x_dict[value] = (tuple(X[sol]),(0,sol))\n",
    "\n",
    "for gen in range(1,Ngen+1):\n",
    "  for sol in range(Nsol):\n",
    "      temp_pX=tuple(pX[sol])\n",
    "      u = (umax-umin)/2*Njob2 \n",
    "      for job in range(Njob):\n",
    "        rnd2=np.random.rand()\n",
    "        if rnd2<Cg:\n",
    "          X[sol][job]=pX[gBest][job]\n",
    "        elif rnd2<Cp:\n",
    "          X[sol][job]=pX[sol][job]\n",
    "        elif rnd2<Cw:\n",
    "          X[sol][job]=X[sol][job]\n",
    "        else:\n",
    "          X[sol][job]=int(random_select(job))\n",
    "      for job in range(Njob,Njob+Njob2):\n",
    "        rnd=np.random.rand()\n",
    "        if rnd<C1 or (X[sol][job]==pX[gBest][job]):\n",
    "            X[sol][job]=X[sol][job]+u[job]*(np.random.rand()-0.5)                      *(random_number_range[job][0])\n",
    "        elif rnd<C2 and (X[sol][job]!=pX[gBest][job]):\n",
    "            X[sol][job]=pX[gBest][job]+u[job]*(np.random.rand()-0.5)                   *(random_number_range[job][0])\n",
    "        else:\n",
    "            X[sol][job]=X[sol][job]+(X[sol][job]-pX[gBest][job])*(np.random.rand()-0.5)*(random_number_range[job][0])\n",
    "        if X[sol][job]<random_number_range[job][0] or X[sol][job]>random_number_range[job][1]:\n",
    "            X[sol][job]=random_select(job)\n",
    "      print(gen,sol,X[sol])\n",
    "      best_num_layers = (X[sol][0])\n",
    "      best_optim = (X[sol][1])\n",
    "      best_al = (X[sol][2])\n",
    "      best_act = (X[sol][3])\n",
    "      best_earlystop = (X[sol][4])\n",
    "      best_epoch1 = (X[sol][5])\n",
    "      best_hidden_dim = (X[sol][6])\n",
    "      best_variant = (X[sol][7])\n",
    "\n",
    "      best_alpha = X[sol][8]\n",
    "      best_lamda = X[sol][9]\n",
    "      best_dropout = X[sol][10]\n",
    "      best_lr = X[sol][11]\n",
    "      best_weight_decay_1 = X[sol][12]\n",
    "      best_weight_decay_2 = X[sol][13]\n",
    "      best_test_acc_list=[]\n",
    "      for k in range(repeat):\n",
    "        if best_al==0 and best_variant==0:\n",
    "            b=!python -u train3.py --data pubmed --layer {best_num_layers} --op {best_optim}  --act_fn {best_act} --patience {best_earlystop} --epochs  {best_epoch1} --hidden {best_hidden_dim} --dropout {best_dropout} --lr {best_lr} --wd1 {best_weight_decay_1} --wd2 {best_weight_decay_2} \n",
    "        elif best_al==1 and best_variant==0:\n",
    "            b=!python -u train3.py --data pubmed --layer {best_num_layers} --op {best_optim}  --act_fn {best_act} --patience {best_earlystop} --epochs  {best_epoch1} --hidden {best_hidden_dim} --alpha {best_alpha} --lamda {best_lamda} --dropout {best_dropout} --lr {best_lr} --wd1 {best_weight_decay_1} --wd2 {best_weight_decay_2} \n",
    "        elif best_al==0 and best_variant==1:\n",
    "            b=!python -u train3.py --data pubmed --layer {best_num_layers} --op {best_optim}  --act_fn {best_act} --patience {best_earlystop} --epochs  {best_epoch1} --hidden {best_hidden_dim} --dropout {best_dropout} --lr {best_lr} --wd1 {best_weight_decay_1} --wd2 {best_weight_decay_2} --variant\n",
    "        else:\n",
    "            b=!python -u train3.py --data pubmed --layer {best_num_layers} --op {best_optim}  --act_fn {best_act} --patience {best_earlystop} --epochs  {best_epoch1} --hidden {best_hidden_dim} --alpha {best_alpha} --lamda {best_lamda} --dropout {best_dropout} --lr {best_lr} --wd1 {best_weight_decay_1} --wd2 {best_weight_decay_2} --variant\n",
    "        b=float(b[-1][-4:].replace(\":\", \"\"))\n",
    "        best_test_acc_list.append(b*0.01)\n",
    "        if np.mean(best_test_acc_list)+0.01<pF[gBest]:\n",
    "            break\n",
    "      value=np.mean(best_test_acc_list)\n",
    "      print(value,\"vs\",pF[gBest])\n",
    "      pX[sol]=list(temp_pX)    \n",
    "      F[sol]=value\n",
    "      #計算value結束\n",
    "      value_to_x_dict[value] = (tuple(X[sol]),(gen,sol))\n",
    "      \n",
    "      if F[sol]>pF[sol]:\n",
    "        for job in range(Njob+Njob2): \n",
    "            pX[sol][job]=X[sol][job] \n",
    "        pF[sol]=F[sol]\n",
    "        if F[sol]>pF[gBest]:\n",
    "          gBest=sol\n",
    "          genBest=gen\n",
    "end_time = time.time()\n",
    "sso_time1=end_time-start_time\n",
    "sol0=value_to_x_dict[pF[gBest]][0]\n",
    "print(\"optimal sequence\",value_to_x_dict[pF[gBest]][0])\n",
    "print(\"optimal value:%f\"%pF[gBest])\n",
    "\n",
    "print(\"gbest_time:%f\"%Best_time)\n",
    "print(\"optimal generation number:\", value_to_x_dict[pF[gBest]][1][0])\n",
    "print(\"optimal sol number:\", value_to_x_dict[pF[gBest]][1][1])\n",
    "print(\"sso_time:\", sso_time1)\n"
   ]
  }
 ],
 "metadata": {
  "kaggle": {
   "accelerator": "gpu",
   "dataSources": [
    {
     "datasetId": 3992311,
     "sourceId": 7047491,
     "sourceType": "datasetVersion"
    },
    {
     "datasetId": 3990844,
     "sourceId": 7050903,
     "sourceType": "datasetVersion"
    },
    {
     "datasetId": 4049779,
     "sourceId": 7184252,
     "sourceType": "datasetVersion"
    },
    {
     "datasetId": 1640734,
     "sourceId": 7876159,
     "sourceType": "datasetVersion"
    }
   ],
   "dockerImageVersionId": 30747,
   "isGpuEnabled": true,
   "isInternetEnabled": true,
   "language": "python",
   "sourceType": "notebook"
  },
  "kernelspec": {
   "display_name": "Python 3",
   "language": "python",
   "name": "python3"
  },
  "language_info": {
   "codemirror_mode": {
    "name": "ipython",
    "version": 3
   },
   "file_extension": ".py",
   "mimetype": "text/x-python",
   "name": "python",
   "nbconvert_exporter": "python",
   "pygments_lexer": "ipython3",
   "version": "3.10.13"
  },
  "papermill": {
   "default_parameters": {},
   "duration": 446.499719,
   "end_time": "2024-07-15T10:40:47.218287",
   "environment_variables": {},
   "exception": null,
   "input_path": "__notebook__.ipynb",
   "output_path": "__notebook__.ipynb",
   "parameters": {},
   "start_time": "2024-07-15T10:33:20.718568",
   "version": "2.4.0"
  }
 },
 "nbformat": 4,
 "nbformat_minor": 5
}
